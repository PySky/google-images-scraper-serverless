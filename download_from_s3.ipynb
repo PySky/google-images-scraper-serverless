{
 "cells": [
  {
   "cell_type": "markdown",
   "metadata": {},
   "source": [
    "Download a bucket from S3 to the local filesystem."
   ]
  },
  {
   "cell_type": "code",
   "execution_count": 1,
   "metadata": {
    "ExecuteTime": {
     "end_time": "2017-10-12T20:04:11.585029Z",
     "start_time": "2017-10-12T20:04:11.505532Z"
    },
    "collapsed": true
   },
   "outputs": [],
   "source": [
    "import boto3, os\n",
    "from timeit import default_timer as timer"
   ]
  },
  {
   "cell_type": "code",
   "execution_count": 2,
   "metadata": {
    "collapsed": true
   },
   "outputs": [],
   "source": [
    "bucket_name = 'slavs-lambda-scraper'\n",
    "download_dir = './data'"
   ]
  },
  {
   "cell_type": "code",
   "execution_count": 6,
   "metadata": {
    "ExecuteTime": {
     "end_time": "2017-10-12T20:04:12.461449Z",
     "start_time": "2017-10-12T20:04:12.445751Z"
    },
    "collapsed": true
   },
   "outputs": [],
   "source": [
    "def download_s3(client, resource, dist, local='/tmp', bucket='your_bucket'):\n",
    "    paginator = client.get_paginator('list_objects')\n",
    "    for result in paginator.paginate(Bucket=bucket, Delimiter='/', Prefix=dist):\n",
    "        if result.get('CommonPrefixes') is not None:\n",
    "            for subdir in result.get('CommonPrefixes'):\n",
    "                download_s3(client, resource, subdir.get('Prefix'), local, bucket)\n",
    "        if result.get('Contents') is not None:\n",
    "            for file in result.get('Contents'):\n",
    "                if not os.path.exists(os.path.dirname(local + os.sep + file.get('Key'))):\n",
    "                     os.makedirs(os.path.dirname(local + os.sep + file.get('Key')))\n",
    "                resource.meta.client.download_file(bucket, file.get('Key'), local + os.sep + file.get('Key'))\n",
    "                print('.', end='')"
   ]
  },
  {
   "cell_type": "code",
   "execution_count": 4,
   "metadata": {
    "ExecuteTime": {
     "end_time": "2017-10-12T21:36:48.313900Z",
     "start_time": "2017-10-12T21:36:44.958410Z"
    },
    "collapsed": true
   },
   "outputs": [],
   "source": [
    "s3_client = boto3.client('s3')\n",
    "s3_resource = boto3.resource('s3')"
   ]
  },
  {
   "cell_type": "code",
   "execution_count": null,
   "metadata": {
    "ExecuteTime": {
     "end_time": "2017-10-13T01:22:29.577816Z",
     "start_time": "2017-10-12T21:37:20.114072Z"
    },
    "collapsed": false,
    "run_control": {
     "marked": false
    }
   },
   "outputs": [],
   "source": [
    "start = timer()\n",
    "print('Processing {} '.format(bucket_name), end='')\n",
    "os.makedirs(download_dir, exist_ok=True)\n",
    "download_s3(s3_client, s3_resource, '', download_dir, bucket=bucket_name)\n",
    "print('Done in {}s'.format(timer() - start))"
   ]
  }
 ],
 "metadata": {
  "kernelspec": {
   "display_name": "Python 3",
   "language": "python",
   "name": "python3"
  },
  "language_info": {
   "codemirror_mode": {
    "name": "ipython",
    "version": 3
   },
   "file_extension": ".py",
   "mimetype": "text/x-python",
   "name": "python",
   "nbconvert_exporter": "python",
   "pygments_lexer": "ipython3",
   "version": "3.6.0"
  }
 },
 "nbformat": 4,
 "nbformat_minor": 2
}
